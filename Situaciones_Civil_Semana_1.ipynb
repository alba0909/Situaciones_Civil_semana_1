{
  "nbformat": 4,
  "nbformat_minor": 0,
  "metadata": {
    "colab": {
      "provenance": [],
      "authorship_tag": "ABX9TyNYnoX3/5bzqZCL8Ifx6Ehg",
      "include_colab_link": true
    },
    "kernelspec": {
      "name": "python3",
      "display_name": "Python 3"
    },
    "language_info": {
      "name": "python"
    }
  },
  "cells": [
    {
      "cell_type": "markdown",
      "metadata": {
        "id": "view-in-github",
        "colab_type": "text"
      },
      "source": [
        "<a href=\"https://colab.research.google.com/github/alba0909/Situaciones_Civil_semana_1/blob/main/Situaciones_Civil_Semana_1.ipynb\" target=\"_parent\"><img src=\"https://colab.research.google.com/assets/colab-badge.svg\" alt=\"Open In Colab\"/></a>"
      ]
    },
    {
      "cell_type": "code",
      "execution_count": null,
      "metadata": {
        "id": "3PvMR-oGJyYY"
      },
      "outputs": [],
      "source": [
        "#Calculo de Semillas\n",
        "# 1. Saludar al usuario y explicar qué hace el programa\n",
        "print (\"Bienvenidos al cálculo de semillas\")\n",
        "\n",
        "# 2. Pedir al usuario que ingrese el largo del lote en metros (input sin conversion)\n",
        "largo = input (\"Ingrese el largo del lote en metros:\")\n",
        "\n",
        "# 3. Pedir el ancho del lote en metros (input sin conversión)\n",
        "9. ancho = input (\"Ingrese el ancho del lote en metros:\")\n",
        "\n",
        "# 4. Pedir la densidad de siembra en kg/hectárea (input)\n",
        "densidad = input (\"Ingrese la densidad de siembra en kg/ha:\")\n",
        "\n",
        "# 5. Convertir las entradas de texto a números decimales (float)\n",
        "largo = float (largo)\n",
        "ancho = float (ancho)\n",
        "densidad = float (densidad)\n",
        "\n",
        "# 6. Calcular el área en metros cuadrados (largo * ancho)\n",
        "area = largo * ancho\n",
        "\n",
        "# 7. Convertir el área a hectáreas (1 hectárea = 10.000 m²)\n",
        "area = area * densidad\n",
        "\n",
        "# 8. Calcular la cantidad total de semilla (área en hectáreas * densidad).\n",
        "semillas = area * densidad\n",
        "\n",
        "# 9. Mostrar el resultado final al usuario.\n",
        "print (\"La cantidad de semillas a comprar es:\", semillas, \"kg\")"
      ]
    }
  ]
}