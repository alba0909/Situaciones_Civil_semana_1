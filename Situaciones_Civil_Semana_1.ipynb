{
  "nbformat": 4,
  "nbformat_minor": 0,
  "metadata": {
    "colab": {
      "provenance": [],
      "authorship_tag": "ABX9TyMFV9itPNEHCnLLfN7Wol95",
      "include_colab_link": true
    },
    "kernelspec": {
      "name": "python3",
      "display_name": "Python 3"
    },
    "language_info": {
      "name": "python"
    }
  },
  "cells": [
    {
      "cell_type": "markdown",
      "metadata": {
        "id": "view-in-github",
        "colab_type": "text"
      },
      "source": [
        "<a href=\"https://colab.research.google.com/github/alba0909/Situaciones_Civil_semana_1/blob/main/Situaciones_Civil_Semana_1.ipynb\" target=\"_parent\"><img src=\"https://colab.research.google.com/assets/colab-badge.svg\" alt=\"Open In Colab\"/></a>"
      ]
    },
    {
      "cell_type": "code",
      "execution_count": null,
      "metadata": {
        "id": "3PvMR-oGJyYY"
      },
      "outputs": [],
      "source": [
        "#Calculo de Semillas\n",
        "# 1. Saludar al usuario y explicar qué hace el programa\n",
        "print (\"Bienvenidos al cálculo de semillas\")\n",
        "\n",
        "# 2. Pedir al usuario que ingrese el largo del lote en metros (input sin conversion)\n",
        "largo = input (\"Ingrese el largo del lote en metros:\")\n",
        "\n",
        "# 3. Pedir el ancho del lote en metros (input sin conversión)\n",
        "9. ancho = input (\"Ingrese el ancho del lote en metros:\")\n",
        "\n",
        "# 4. Pedir la densidad de siembra en kg/hectárea (input)\n",
        "densidad = input (\"Ingrese la densidad de siembra en kg/ha:\")\n",
        "\n",
        "# 5. Convertir las entradas de texto a números decimales (float)\n",
        "largo = float (largo)\n",
        "ancho = float (ancho)\n",
        "densidad = float (densidad)\n",
        "\n",
        "# 6. Calcular el área en metros cuadrados (largo * ancho)\n",
        "area = largo * ancho\n",
        "\n",
        "# 7. Convertir el área a hectáreas (1 hectárea = 10.000 m²)\n",
        "area = area * densidad\n",
        "\n",
        "# 8. Calcular la cantidad total de semilla (área en hectáreas * densidad).\n",
        "semillas = area * densidad\n",
        "\n",
        "# 9. Mostrar el resultado final al usuario.\n",
        "print (\"La cantidad de semillas a comprar es:\", semillas, \"kg\")"
      ]
    },
    {
      "cell_type": "markdown",
      "metadata": {
        "id": "f3a37930"
      },
      "source": [
        "Aquí tienes una explicación línea por línea del código para calcular la cantidad de semillas:\n",
        "\n",
        "*   `print (\"Bienvenidos al cálculo de semillas\")`: Esta línea imprime un mensaje de bienvenida al usuario, indicando el propósito del programa.\n",
        "*   `largo = input (\"Ingrese el largo del lote en metros:\")`: Le pide al usuario que ingrese el largo del lote en metros y guarda el valor ingresado (como texto) en la variable `largo`.\n",
        "*   `ancho = input (\"Ingrese el ancho del lote en metros:\")`: Le pide al usuario que ingrese el ancho del lote en metros y guarda el valor ingresado (como texto) en la variable `ancho`.\n",
        "*   `densidad = input (\"Ingrese la densidad de siembra en kg/ha:\")`: Le pide al usuario que ingrese la densidad de siembra en kilogramos por hectárea y guarda el valor ingresado (como texto) en la variable `densidad`.\n",
        "*   `largo = float (largo)`: Convierte el valor de texto almacenado en `largo` a un número decimal (flotante) y actualiza la variable `largo` con este nuevo valor.\n",
        "*   `ancho = float (ancho)`: Convierte el valor de texto almacenado en `ancho` a un número decimal (flotante) y actualiza la variable `ancho` con este nuevo valor.\n",
        "*   `densidad = float (densidad)`: Convierte el valor de texto almacenado en `densidad` a un número decimal (flotante) y actualiza la variable `densidad` con este nuevo valor.\n",
        "*   `area = largo * ancho`: Calcula el área del lote en metros cuadrados multiplicando el largo por el ancho y guarda el resultado en la variable `area`.\n",
        "*   `area = area * densidad`: **Nota:** Esta línea parece ser un error lógico. Actualmente está multiplicando el área en metros cuadrados por la densidad en kg/ha. Para convertir el área a hectáreas, deberías dividir por 10,000. La línea correcta para convertir el área a hectáreas sería `area_hectareas = area / 10000`.\n",
        "*   `semillas = area * densidad`: **Nota:** Debido al error en la línea anterior, esta línea no está calculando correctamente la cantidad de semillas. Debería multiplicar el área en hectáreas (`area_hectareas`) por la densidad en kg/ha (`densidad`). La línea correcta para calcular la cantidad de semillas sería `semillas = area_hectareas * densidad`.\n",
        "*   `print (\"La cantidad de semillas a comprar es:\", semillas, \"kg\")`: Imprime el resultado final al usuario, mostrando la cantidad calculada de semillas a comprar en kilogramos."
      ]
    }
  ]
}